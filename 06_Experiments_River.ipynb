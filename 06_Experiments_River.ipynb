{
 "cells": [
  {
   "cell_type": "code",
   "execution_count": 1,
   "id": "aa15a66c",
   "metadata": {},
   "outputs": [],
   "source": [
    "# importing helper functions\n",
    "from data import *"
   ]
  },
  {
   "cell_type": "code",
   "execution_count": 2,
   "id": "90f550b4",
   "metadata": {},
   "outputs": [],
   "source": [
    "# importing river\n",
    "import numbers\n",
    "from river import compose\n",
    "from river import datasets\n",
    "from river import evaluate\n",
    "from river import linear_model\n",
    "from river import neighbors\n",
    "from river import metrics\n",
    "from river import preprocessing\n",
    "from river import tree\n",
    "from river import stream\n",
    "import graphviz"
   ]
  },
  {
   "cell_type": "code",
   "execution_count": 3,
   "id": "421008f6",
   "metadata": {},
   "outputs": [],
   "source": [
    "from tqdm import tqdm"
   ]
  },
  {
   "cell_type": "code",
   "execution_count": 4,
   "id": "b432a085",
   "metadata": {},
   "outputs": [],
   "source": [
    "# import preprocessing tools\n",
    "import numpy as np\n",
    "import pandas as pd"
   ]
  },
  {
   "cell_type": "code",
   "execution_count": 5,
   "id": "d50b9d03",
   "metadata": {},
   "outputs": [],
   "source": [
    "# load data\n",
    "static_df = load_static()\n",
    "weather_df = pd.read_pickle('data/weather/weather.pkl')"
   ]
  },
  {
   "cell_type": "code",
   "execution_count": 9,
   "id": "01371e59",
   "metadata": {},
   "outputs": [
    {
     "name": "stderr",
     "output_type": "stream",
     "text": [
      "Sensor 359: R2 = 0.8704978679873508:   2%|▉                                             | 1/50 [00:01<00:49,  1.02s/it]C:\\Users\\klemen\\AppData\\Roaming\\Python\\Python38\\site-packages\\river\\metrics\\r2.py:71: RuntimeWarning: invalid value encountered in double_scalars\n",
      "  return 1 - (self._residual_sum_of_squares / total_sum_of_squares)\n",
      "Sensor 395: R2 = 0.6359008795527346: : 51it [03:09,  3.71s/it]                                                         \n"
     ]
    }
   ],
   "source": [
    "sensors = [1, 24, 35, 43, 68, 103, 105, 106, 108, 109, 110, 116, 117, 122, 124, 144, 145, 157, 168, 177,\n",
    "    179, 223, 225, 236, 239, 245, 249, 253, 257, 259, 262, 285, 286, 290, 293, 301, 303, 312, 358, 359, 362,\n",
    "    365, 367, 377, 378, 379, 382, 384, 385, 388, 389, 391, 392, 394, 395]\n",
    "\n",
    "def make_target_X(df):\n",
    "    horizons = [1, 3, 6, 12, 24, 36]\n",
    "    horizons_ma6 = [6, 12, 18, 24]\n",
    "    horizons_1d = [24]\n",
    "    X = df\n",
    "    for h in horizons:        \n",
    "        y = df.shift(periods=-h, freq='1H')[\"pc\"].rename(\"pc_t{}\".format(h))                 \n",
    "        X = pd.concat([X, y], axis=1, join=\"inner\")\n",
    "    for h in horizons_ma6:\n",
    "        y = df.shift(periods=-h, freq='1H')[\"pc_ma_6H\"].rename(\"pc_ma6_t{}\".format(h))                 \n",
    "        X = pd.concat([X, y], axis=1, join=\"inner\")\n",
    "    for h in horizons_1d:\n",
    "        y = df.shift(periods=-h, freq='1H')[\"pc_ma_1D\"].rename(\"pc_ma24_t{}\".format(h))                 \n",
    "        X = pd.concat([X, y], axis=1, join=\"inner\")\n",
    "    return X\n",
    "\n",
    "# create progress bar\n",
    "pbar = tqdm(total=50)\n",
    "\n",
    "result = []\n",
    "\n",
    "# load sensor - last parameter is id\n",
    "for s in sensors:\n",
    "    final_df = make_final(static_df, weather_df, s)\n",
    "    X_df = make_target_X(final_df)\n",
    "\n",
    "    selected_features = get_all_candidates(s)\n",
    "    X = X_df[selected_features]\n",
    "    target_features = [\"pc15\", \"pc30\", \"pc45\", \"pc_t1\", \"pc_t3\", \"pc_t6\", \"pc_t12\", \"pc_t24\", \"pc_t36\", \n",
    "                       \"pc_ma6_t6\", \"pc_ma6_t12\", \"pc_ma6_t18\", \"pc_ma6_t24\", \"pc_ma24_t24\"]\n",
    "    y = X_df[target_features]\n",
    "\n",
    "    dataset = stream.iter_pandas(X, y)\n",
    "\n",
    "    modelI = tree.iSOUPTreeRegressor(\n",
    "        grace_period=20,\n",
    "        leaf_prediction='adaptive',\n",
    "        leaf_model={\n",
    "            'pc15': neighbors.KNNRegressor(),\n",
    "            'pc30': neighbors.KNNRegressor(),\n",
    "            'pc45': neighbors.KNNRegressor(),        \n",
    "            'pc_t1': neighbors.KNNRegressor(),\n",
    "            'pc_t3': neighbors.KNNRegressor(),\n",
    "            'pc_t6': neighbors.KNNRegressor(),\n",
    "            'pc_t12': neighbors.KNNRegressor(),\n",
    "            'pc_t24': neighbors.KNNRegressor(),\n",
    "            'pc_t36': neighbors.KNNRegressor(),\n",
    "            'pc_ma6_t6': neighbors.KNNRegressor(),\n",
    "            'pc_ma6_t12': neighbors.KNNRegressor(),\n",
    "            'pc_ma6_t18': neighbors.KNNRegressor(),\n",
    "            'pc_ma6_t24': neighbors.KNNRegressor(),\n",
    "            'pc_ma24_t24': neighbors.KNNRegressor()            \n",
    "        }\n",
    "    )\n",
    "\n",
    "    metric08 = metrics.multioutput.MicroAverage(metrics.R2())\n",
    "    metric = metrics.multioutput.MicroAverage(metrics.R2())\n",
    "    metricS08 = metrics.multioutput.MicroAverage(metrics.SMAPE())\n",
    "    metricS = metrics.multioutput.MicroAverage(metrics.SMAPE())\n",
    "\n",
    "    i = 0\n",
    "    step = len(y) / 50\n",
    "    # print(step)\n",
    "    \n",
    "    pbar.reset()\n",
    "    \n",
    "    partial_result = { \"sensor\": s, \"horizon\": -1, \"model\": \"iSOUPTree\", \"smape\": [], \"smape08\": [], \"r2\": [], \"r208\": []}\n",
    "\n",
    "    for xi, yi in dataset:    \n",
    "        i = i + 1    \n",
    "        yp = modelI.predict_one(xi)    \n",
    "        modelI.learn_one(xi, yi)      \n",
    "\n",
    "        # update metrics\n",
    "        metric.update(yi, yp)\n",
    "        metricS.update(yi, yp)\n",
    "        if i > len(y) * 0.8:\n",
    "            metric08.update(yi, yp)\n",
    "            metricS08.update(yi, yp)\n",
    "            \n",
    "        if i % step < 1:\n",
    "            pbar.update(1)\n",
    "            pbar.set_description(\"Sensor {}: R2 = {:.4f}\".format(s, metric.get()))\n",
    "            \n",
    "            partial_result[\"smape\"].append(metricS.get())\n",
    "            partial_result[\"smape08\"].append(metricS08.get())\n",
    "            partial_result[\"r2\"].append(metric.get())\n",
    "            partial_result[\"r208\"].append(metric08.get())\n",
    "            \n",
    "            \n",
    "\n",
    "    pbar.update(1)\n",
    "    pbar.set_description(\"Sensor {}: R2 = {}\".format(s, metric.get()))\n",
    "    partial_result[\"smape\"].append(metricS.get())\n",
    "    partial_result[\"smape08\"].append(metricS08.get())\n",
    "    partial_result[\"r2\"].append(metric.get())\n",
    "    partial_result[\"r208\"].append(metric08.get())\n",
    "    \n",
    "    result.append(partial_result)\n",
    "    \n",
    "pbar.close()"
   ]
  },
  {
   "cell_type": "code",
   "execution_count": 8,
   "id": "d25a2e63",
   "metadata": {},
   "outputs": [
    {
     "name": "stderr",
     "output_type": "stream",
     "text": [
      "Sensor 1: R2 = 0.4423:   4%|██▍                                                         | 2/50 [00:15<06:10,  7.72s/it]\n"
     ]
    }
   ],
   "source": [
    "pbar.close()"
   ]
  },
  {
   "cell_type": "code",
   "execution_count": 10,
   "id": "b6f70893",
   "metadata": {},
   "outputs": [],
   "source": [
    "# save features\n",
    "with open(\"results/river_isouptree_additional.pkl\", \"wb\") as f:\n",
    "    pickle.dump(result, f)"
   ]
  },
  {
   "cell_type": "code",
   "execution_count": null,
   "id": "f7f57dcd",
   "metadata": {},
   "outputs": [],
   "source": []
  }
 ],
 "metadata": {
  "kernelspec": {
   "display_name": "Python 3",
   "language": "python",
   "name": "python3"
  },
  "language_info": {
   "codemirror_mode": {
    "name": "ipython",
    "version": 3
   },
   "file_extension": ".py",
   "mimetype": "text/x-python",
   "name": "python",
   "nbconvert_exporter": "python",
   "pygments_lexer": "ipython3",
   "version": "3.8.12"
  }
 },
 "nbformat": 4,
 "nbformat_minor": 5
}
