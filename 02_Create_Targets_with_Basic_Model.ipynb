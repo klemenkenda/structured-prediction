{
 "cells": [
  {
   "cell_type": "markdown",
   "id": "5d6c6c5a",
   "metadata": {},
   "source": [
    "# Load Data"
   ]
  },
  {
   "cell_type": "code",
   "execution_count": null,
   "id": "901460a8",
   "metadata": {},
   "outputs": [],
   "source": [
    "from data import *"
   ]
  },
  {
   "cell_type": "code",
   "execution_count": 4,
   "id": "692ed6cd",
   "metadata": {},
   "outputs": [],
   "source": [
    "static_df = load_static()\n",
    "weather_df = pd.read_pickle('data/weather/weather.pkl')"
   ]
  },
  {
   "cell_type": "code",
   "execution_count": 33,
   "id": "7350596f",
   "metadata": {},
   "outputs": [],
   "source": [
    "final_df = make_final(static_df, weather_df, 1)"
   ]
  },
  {
   "cell_type": "code",
   "execution_count": 34,
   "id": "f704430e",
   "metadata": {},
   "outputs": [
    {
     "data": {
      "text/plain": [
       "0"
      ]
     },
     "execution_count": 34,
     "metadata": {},
     "output_type": "execute_result"
    }
   ],
   "source": [
    "final_df.isna().sum().sum()"
   ]
  },
  {
   "cell_type": "code",
   "execution_count": 124,
   "id": "782084bf",
   "metadata": {},
   "outputs": [],
   "source": [
    "def make_target(df, h):\n",
    "    y = df.shift(periods=-h, freq='1H')[\"pc\"]\n",
    "    y = y[h:]\n",
    "    X = df[:-h]\n",
    "    return X.to_numpy(), y.to_numpy()\n",
    "\n",
    "X, y = make_target(final_df, 1)"
   ]
  },
  {
   "cell_type": "markdown",
   "id": "550b1206",
   "metadata": {},
   "source": [
    "# Create Simple Model"
   ]
  },
  {
   "cell_type": "code",
   "execution_count": 131,
   "id": "78187148",
   "metadata": {},
   "outputs": [],
   "source": [
    "from sklearn.model_selection import TimeSeriesSplit\n",
    "from sklearn import linear_model\n",
    "from sklearn import tree\n",
    "from sklearn.ensemble import RandomForestRegressor\n",
    "\n",
    "tscv = TimeSeriesSplit(n_splits = 10)"
   ]
  },
  {
   "cell_type": "code",
   "execution_count": 134,
   "id": "beec4f64",
   "metadata": {},
   "outputs": [
    {
     "name": "stdout",
     "output_type": "stream",
     "text": [
      "1\n",
      "2\n",
      "3\n",
      "4\n",
      "5\n",
      "6\n",
      "7\n",
      "8\n",
      "9\n",
      "10\n"
     ]
    },
    {
     "data": {
      "text/plain": [
       "[0.07218307046208383,\n",
       " 0.8772842277480393,\n",
       " 0.8298492294226681,\n",
       " 0.9469633428470883,\n",
       " 0.9385919752261583,\n",
       " 0.9473955268824921,\n",
       " 0.8853747399882904,\n",
       " 0.9578579898377504,\n",
       " 0.9571731739630793,\n",
       " 0.9662411571036698]"
      ]
     },
     "execution_count": 134,
     "metadata": {},
     "output_type": "execute_result"
    }
   ],
   "source": [
    "reg = linear_model.LinearRegression()\n",
    "#reg = tree.DecisionTreeRegressor()\n",
    "#reg = RandomForestRegressor(max_depth=20)\n",
    "i = 0\n",
    "scores = []\n",
    "for train, test in tscv.split(X, y):    \n",
    "    i = i + 1\n",
    "    print(i)\n",
    "    reg.fit(X[train], y[train])\n",
    "    scores.append(reg.score(X[test], y[test]))\n",
    "scores"
   ]
  },
  {
   "cell_type": "code",
   "execution_count": 133,
   "id": "78ca2fad",
   "metadata": {},
   "outputs": [
    {
     "data": {
      "text/plain": [
       "[0.8594263944806076,\n",
       " 0.9132512896613483,\n",
       " 0.9258351397289546,\n",
       " 0.9597275281804508,\n",
       " 0.9409654883017116,\n",
       " 0.9411141031581942,\n",
       " 0.8885907077168614,\n",
       " 0.9253936591955949,\n",
       " 0.9549804847722709,\n",
       " 0.963447051011748]"
      ]
     },
     "execution_count": 133,
     "metadata": {},
     "output_type": "execute_result"
    }
   ],
   "source": [
    "rf_scores = scores\n",
    "rf_scores"
   ]
  },
  {
   "cell_type": "code",
   "execution_count": null,
   "id": "f90c7c10",
   "metadata": {},
   "outputs": [],
   "source": []
  }
 ],
 "metadata": {
  "kernelspec": {
   "display_name": "Python 3",
   "language": "python",
   "name": "python3"
  },
  "language_info": {
   "codemirror_mode": {
    "name": "ipython",
    "version": 3
   },
   "file_extension": ".py",
   "mimetype": "text/x-python",
   "name": "python",
   "nbconvert_exporter": "python",
   "pygments_lexer": "ipython3",
   "version": "3.8.12"
  }
 },
 "nbformat": 4,
 "nbformat_minor": 5
}
