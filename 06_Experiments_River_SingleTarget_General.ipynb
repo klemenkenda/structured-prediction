{
 "cells": [
  {
   "cell_type": "code",
   "execution_count": 15,
   "id": "9844bf71",
   "metadata": {},
   "outputs": [],
   "source": [
    "# importing helper functions\n",
    "from data import *"
   ]
  },
  {
   "cell_type": "code",
   "execution_count": 16,
   "id": "1297a2d6",
   "metadata": {},
   "outputs": [],
   "source": [
    "# importing river\n",
    "import numbers\n",
    "from river import compose\n",
    "from river import datasets\n",
    "from river import evaluate\n",
    "from river import linear_model\n",
    "from river import neighbors\n",
    "from river import metrics\n",
    "from river import preprocessing\n",
    "from river import neural_net\n",
    "from river import ensemble\n",
    "from river import tree\n",
    "from river import stream\n",
    "import graphviz"
   ]
  },
  {
   "cell_type": "code",
   "execution_count": 17,
   "id": "755659b9",
   "metadata": {},
   "outputs": [],
   "source": [
    "from tqdm import tqdm"
   ]
  },
  {
   "cell_type": "code",
   "execution_count": 18,
   "id": "8dbeb508",
   "metadata": {},
   "outputs": [],
   "source": [
    "# import preprocessing tools\n",
    "import numpy as np\n",
    "import pandas as pd"
   ]
  },
  {
   "cell_type": "code",
   "execution_count": 21,
   "id": "fcbf27b6",
   "metadata": {},
   "outputs": [],
   "source": [
    "# dataset creation\n",
    "def make_target(df, h):\n",
    "    if h == 1024:\n",
    "        hh = 24\n",
    "        y = df.shift(periods=-hh, freq='1H')[\"pc_ma_1D\"]\n",
    "        df.pop('pc15')\n",
    "        df.pop('pc30')\n",
    "        df.pop('pc45')\n",
    "        y = y[hh:]\n",
    "        X = df[:-hh]\n",
    "    elif h > 100:\n",
    "        hh = h - 100\n",
    "        y = df.shift(periods=-hh, freq='1H')[\"pc_ma_6H\"]\n",
    "        df.pop('pc15')\n",
    "        df.pop('pc30')\n",
    "        df.pop('pc45')\n",
    "        y = y[hh:]\n",
    "        X = df[:-hh]\n",
    "    elif h >= 1:\n",
    "        y = df.shift(periods=-h, freq='1H')[\"pc\"]\n",
    "        df.pop('pc15')\n",
    "        df.pop('pc30')\n",
    "        df.pop('pc45')\n",
    "        y = y[h:]\n",
    "        X = df[:-h]\n",
    "    else: \n",
    "        y = {\n",
    "            0.25: df[\"pc15\"],\n",
    "            0.5: df[\"pc30\"],\n",
    "            0.75: df[\"pc45\"]\n",
    "        }[h]\n",
    "        df.pop('pc15')\n",
    "        df.pop('pc30')\n",
    "        df.pop('pc45')        \n",
    "        X = df\n",
    "    return X, y\n",
    "\n",
    "# load data\n",
    "static_df = load_static()\n",
    "weather_df = pd.read_pickle('data/weather/weather.pkl')"
   ]
  },
  {
   "cell_type": "code",
   "execution_count": 24,
   "id": "67a049ee",
   "metadata": {},
   "outputs": [
    {
     "name": "stderr",
     "output_type": "stream",
     "text": [
      "Sensor 359: h = 1024, m = ARF, R2 = 0.9127:   0%|                                               | 0/50 [00:00<?, ?it/s]C:\\Users\\klemen\\AppData\\Roaming\\Python\\Python38\\site-packages\\river\\metrics\\r2.py:71: RuntimeWarning: invalid value encountered in double_scalars\n",
      "  return 1 - (self._residual_sum_of_squares / total_sum_of_squares)\n",
      "Sensor 395: h = 1024, m = ARF, R2 = 0.8020: 100%|██████████████████████████████████████| 50/50 [02:21<00:00,  2.84s/it]\n"
     ]
    }
   ],
   "source": [
    "sensors = [1, 24, 35, 43, 68, 103, 105, 106, 108, 109, 110, 116, 117, 122, 124, 144, 145, 157, 168, 177,\n",
    "    179, 223, 225, 236, 239, 245, 249, 253, 257, 259, 262, 285, 286, 290, 293, 301, 303, 312, 358, 359, 362,\n",
    "    365, 367, 377, 378, 379, 382, 384, 385, 388, 389, 391, 392, 394, 395]\n",
    "# horizons = [0.25, 0.5, 0.75, 1, 3, 6, 12, 24, 36]\n",
    "horizons = [106, 112, 118, 124, 1024]\n",
    "\n",
    "models1 = [\n",
    "    #('LinReg', 'linear_model.LinearRegression()'),\n",
    "    ('KNN', 'neighbors.KNNRegressor()'),\n",
    "    ('HT', 'tree.HoeffdingTreeRegressor(grace_period=20, leaf_prediction=\"adaptive\")'),\n",
    "    ('HAT', 'tree.HoeffdingAdaptiveTreeRegressor(grace_period=20, leaf_prediction=\"adaptive\")'),\n",
    "    ('ARF', 'ensemble.AdaptiveRandomForestRegressor(grace_period=20, leaf_prediction=\"adaptive\")')    \n",
    "]\n",
    "\n",
    "models15 = [\n",
    "    #('LinReg', 'linear_model.LinearRegression()'),\n",
    "    ('KNN', 'neighbors.KNNRegressor()'),\n",
    "    ('HT', 'tree.HoeffdingTreeRegressor(grace_period=20, leaf_prediction=\"adaptive\", leaf_model=neighbors.KNNRegressor())'),\n",
    "    ('HAT', 'tree.HoeffdingAdaptiveTreeRegressor(grace_period=20, leaf_prediction=\"adaptive\", leaf_model=neighbors.KNNRegressor())'),\n",
    "    ('ARF', 'ensemble.AdaptiveRandomForestRegressor(grace_period=20, leaf_prediction=\"adaptive\", leaf_model=neighbors.KNNRegressor())')\n",
    "]\n",
    "\n",
    "result = []\n",
    "# create progress bar\n",
    "pbar = tqdm(total=50)\n",
    "\n",
    "for s in sensors:\n",
    "    for h in horizons:\n",
    "        # use different models for 15-minute predictions\n",
    "        models = models15\n",
    "        if h == 0.25:\n",
    "            models = models15\n",
    "        for name, model in models: \n",
    "            output = \"s{}h{}-{}\".format(s, h, name)\n",
    "            #print(output)\n",
    "\n",
    "            # load sensor - last parameter is id\n",
    "            final_df = make_final(static_df, weather_df, s)\n",
    "\n",
    "            # make dataset\n",
    "            X_df, y_df = make_target(final_df, h)\n",
    "\n",
    "            hh = h\n",
    "            if (hh < 1):\n",
    "                hh = 1\n",
    "            selected_features = get_all_candidates(s)\n",
    "            X = X_df[selected_features]\n",
    "            y = y_df\n",
    "\n",
    "            dataset = stream.iter_pandas(X, y)            \n",
    "            reg = eval(model)\n",
    "            \n",
    "            metric08 = metrics.R2()\n",
    "            metric = metrics.R2()\n",
    "            metricS08 = metrics.SMAPE()\n",
    "            metricS = metrics.SMAPE()\n",
    "\n",
    "            i = 0\n",
    "            step = len(y) / 50\n",
    "\n",
    "            pbar.reset()\n",
    "\n",
    "            partial_result = { \"sensor\": s, \"horizon\": h, \"model\": name, \"smape\": [], \"smape08\": [], \"r2\": [], \"r208\": []}\n",
    "                      \n",
    "            for xi, yi in dataset:    \n",
    "                i = i + 1    \n",
    "                yp = reg.predict_one(xi)    \n",
    "                reg.learn_one(xi, yi)      \n",
    "\n",
    "                # update metrics\n",
    "                metric.update(yi, yp)\n",
    "                metricS.update(yi, yp)\n",
    "                if i > len(y) * 0.8:\n",
    "                    metric08.update(yi, yp)\n",
    "                    metricS08.update(yi, yp)\n",
    "\n",
    "                if i % step < 1:\n",
    "                    pbar.update(1)\n",
    "                    pbar.set_description(\"Sensor {}: h = {}, m = {}, R2 = {:.4f}\".format(s, h, name, metric.get()))\n",
    "\n",
    "                    partial_result[\"smape\"].append(metricS.get())\n",
    "                    partial_result[\"smape08\"].append(metricS08.get())\n",
    "                    partial_result[\"r2\"].append(metric.get())\n",
    "                    partial_result[\"r208\"].append(metric08.get())\n",
    "\n",
    "            pbar.update(1)\n",
    "            pbar.set_description(\"Sensor {}: h = {}, m = {}, R2 = {:.4f}\".format(s, h, name, metric.get()))\n",
    "            partial_result[\"smape\"].append(metricS.get())\n",
    "            partial_result[\"smape08\"].append(metricS08.get())\n",
    "            partial_result[\"r2\"].append(metric.get())\n",
    "            partial_result[\"r208\"].append(metric08.get())\n",
    "\n",
    "            result.append(partial_result)\n",
    "\n",
    "pbar.close()\n"
   ]
  },
  {
   "cell_type": "code",
   "execution_count": 25,
   "id": "19a0f266",
   "metadata": {},
   "outputs": [],
   "source": [
    "# save features\n",
    "with open(\"results/river_st_general_additional.pkl\", \"wb\") as f:\n",
    "    pickle.dump(result, f)"
   ]
  },
  {
   "cell_type": "code",
   "execution_count": 23,
   "id": "e5e47d8a",
   "metadata": {},
   "outputs": [
    {
     "name": "stderr",
     "output_type": "stream",
     "text": [
      "Sensor 1: h = 106, m = KNN, R2 = 0.5638: 100%|█████████████████████████████████████████| 50/50 [00:07<00:00,  6.92it/s]\n"
     ]
    }
   ],
   "source": [
    "pbar.close()"
   ]
  },
  {
   "cell_type": "code",
   "execution_count": null,
   "id": "0d277189",
   "metadata": {},
   "outputs": [],
   "source": []
  }
 ],
 "metadata": {
  "kernelspec": {
   "display_name": "Python 3",
   "language": "python",
   "name": "python3"
  },
  "language_info": {
   "codemirror_mode": {
    "name": "ipython",
    "version": 3
   },
   "file_extension": ".py",
   "mimetype": "text/x-python",
   "name": "python",
   "nbconvert_exporter": "python",
   "pygments_lexer": "ipython3",
   "version": "3.8.12"
  }
 },
 "nbformat": 4,
 "nbformat_minor": 5
}
