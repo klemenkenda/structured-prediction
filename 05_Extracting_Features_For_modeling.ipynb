{
 "cells": [
  {
   "cell_type": "code",
   "execution_count": 2,
   "id": "7b0e6e0b",
   "metadata": {},
   "outputs": [],
   "source": [
    "# imports\n",
    "import pickle"
   ]
  },
  {
   "cell_type": "code",
   "execution_count": 13,
   "id": "d8e75e44",
   "metadata": {},
   "outputs": [],
   "source": [
    "# loading features\n",
    "def load_features():\n",
    "    with open(\"results/features.pkl\", \"rb\") as f:\n",
    "        features = pickle.load(f)\n",
    "    return(features)"
   ]
  },
  {
   "cell_type": "code",
   "execution_count": 14,
   "id": "2792e8e8",
   "metadata": {},
   "outputs": [],
   "source": [
    "# features includes a list of feature-set candidates, grouped by sensor and horizon\n",
    "# we want to \n",
    "#   (1) extract the best features per horizon (for direct modelling)\n",
    "#   (2) extract a common featureset per sensor (for structured modelling)"
   ]
  },
  {
   "cell_type": "code",
   "execution_count": 19,
   "id": "dc32fdca",
   "metadata": {},
   "outputs": [
    {
     "data": {
      "text/plain": [
       "['timeOfDay', 'monthOfYear', 'weekEnd']"
      ]
     },
     "execution_count": 19,
     "metadata": {},
     "output_type": "execute_result"
    }
   ],
   "source": [
    "def get_candidates(s, h):\n",
    "    features = load_features()\n",
    "    for candidate in features:\n",
    "        if (candidate[0][\"sensor\"] == s) and (candidate[0][\"horizon\"] == h):\n",
    "            return candidate\n",
    "    \n",
    "    \n",
    "def get_features_sh(s, h):\n",
    "    candidates = get_candidates(s, h)\n",
    "    accuracy = -999\n",
    "    i = -1\n",
    "    c = 0\n",
    "    for candidate in candidates:\n",
    "        if candidate[\"accuracy\"] > accuracy:\n",
    "            accuracy = candidate[\"accuracy\"]\n",
    "            i = c\n",
    "            c = c + 1\n",
    "        \n",
    "    return candidates[i][\"features\"]\n",
    "\n",
    "get_features_sh(1, 3)"
   ]
  },
  {
   "cell_type": "code",
   "execution_count": 48,
   "id": "a999b6b4",
   "metadata": {},
   "outputs": [
    {
     "data": {
      "text/plain": [
       "['pc',\n",
       " 'temperature25',\n",
       " 'timeOfDay',\n",
       " 'weekEnd',\n",
       " 'temperature33',\n",
       " 'pc_ma_1H_3H',\n",
       " 'dayOfWeek',\n",
       " 'temperature4',\n",
       " 'dewPoint12',\n",
       " 'visibility31',\n",
       " 'humidity14',\n",
       " 'monthOfYear',\n",
       " 'holiday',\n",
       " 'dewPoint37',\n",
       " 'i3',\n",
       " 'pc_ma_7D_2D',\n",
       " 'dayOfYear',\n",
       " 'dayBeforeHoliday']"
      ]
     },
     "execution_count": 48,
     "metadata": {},
     "output_type": "execute_result"
    }
   ],
   "source": [
    "def normalize_accuracies(horizon):\n",
    "    # normalize accuracies\n",
    "    accuracies = []\n",
    "    for candidate in horizon:\n",
    "        accuracies.append(candidate[\"accuracy\"])        \n",
    "    a_max = max(accuracies)\n",
    "    a_min = min(accuracies)\n",
    "    \n",
    "    if a_min > a_max - 0.2:\n",
    "        a_min = a_max - 0.2\n",
    "    k = 1 / (a_max - a_min)\n",
    "    \n",
    "    for i in range(len(accuracies)):        \n",
    "        new_acc = (accuracies[i] - a_min) * k\n",
    "        horizon[i][\"accuracy\"] = new_acc        \n",
    "    \n",
    "    return(horizon)\n",
    "    \n",
    "def get_all_candidates(s):\n",
    "    features = load_features()\n",
    "    # build a normalized accuracies candidate list\n",
    "    candidates = []\n",
    "    for candidate in features:\n",
    "        if (candidate[0][\"sensor\"] == s):\n",
    "            candidates.append(normalize_accuracies(candidate))\n",
    "    \n",
    "    # build a list of best candidate features\n",
    "    fweights = {}\n",
    "    for horizon in candidates:\n",
    "        for candidate in horizon:\n",
    "            new_acc = candidate[\"accuracy\"]\n",
    "            for f in candidate[\"features\"]:\n",
    "                #print(f, new_acc)\n",
    "                if not f in fweights:\n",
    "                    fweights[f] = 0\n",
    "                fweights[f] = fweights[f] + new_acc\n",
    "    \n",
    "    # filter feature candidates\n",
    "    useful_features = []\n",
    "    for f in fweights:\n",
    "        v = fweights[f]\n",
    "        if v >= 1.0:\n",
    "            useful_features.append(f)\n",
    "    \n",
    "    return useful_features\n",
    "\n",
    "\n",
    "\n",
    "get_all_candidates(1)"
   ]
  },
  {
   "cell_type": "code",
   "execution_count": null,
   "id": "6c872168",
   "metadata": {},
   "outputs": [],
   "source": []
  }
 ],
 "metadata": {
  "kernelspec": {
   "display_name": "Python 3",
   "language": "python",
   "name": "python3"
  },
  "language_info": {
   "codemirror_mode": {
    "name": "ipython",
    "version": 3
   },
   "file_extension": ".py",
   "mimetype": "text/x-python",
   "name": "python",
   "nbconvert_exporter": "python",
   "pygments_lexer": "ipython3",
   "version": "3.8.12"
  }
 },
 "nbformat": 4,
 "nbformat_minor": 5
}
