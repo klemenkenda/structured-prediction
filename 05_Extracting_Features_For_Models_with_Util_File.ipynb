{
 "cells": [
  {
   "cell_type": "code",
   "execution_count": 1,
   "id": "147e2b2f",
   "metadata": {},
   "outputs": [],
   "source": [
    "# importing helper functions\n",
    "from data import *"
   ]
  },
  {
   "cell_type": "code",
   "execution_count": 2,
   "id": "b82d31b1",
   "metadata": {},
   "outputs": [
    {
     "data": {
      "text/plain": [
       "['timeOfDay', 'monthOfYear', 'weekEnd']"
      ]
     },
     "execution_count": 2,
     "metadata": {},
     "output_type": "execute_result"
    }
   ],
   "source": [
    "get_features_sh(1, 3)"
   ]
  },
  {
   "cell_type": "code",
   "execution_count": 3,
   "id": "3e611640",
   "metadata": {},
   "outputs": [
    {
     "data": {
      "text/plain": [
       "['pc',\n",
       " 'temperature25',\n",
       " 'timeOfDay',\n",
       " 'weekEnd',\n",
       " 'temperature33',\n",
       " 'pc_ma_1H_3H',\n",
       " 'dayOfWeek',\n",
       " 'temperature4',\n",
       " 'dewPoint12',\n",
       " 'visibility31',\n",
       " 'humidity14',\n",
       " 'monthOfYear',\n",
       " 'holiday',\n",
       " 'dewPoint37',\n",
       " 'i3',\n",
       " 'pc_ma_7D_2D',\n",
       " 'dayOfYear',\n",
       " 'dayBeforeHoliday']"
      ]
     },
     "execution_count": 3,
     "metadata": {},
     "output_type": "execute_result"
    }
   ],
   "source": [
    "get_all_candidates(1)"
   ]
  },
  {
   "cell_type": "code",
   "execution_count": null,
   "id": "c0896762",
   "metadata": {},
   "outputs": [],
   "source": []
  }
 ],
 "metadata": {
  "kernelspec": {
   "display_name": "Python 3",
   "language": "python",
   "name": "python3"
  },
  "language_info": {
   "codemirror_mode": {
    "name": "ipython",
    "version": 3
   },
   "file_extension": ".py",
   "mimetype": "text/x-python",
   "name": "python",
   "nbconvert_exporter": "python",
   "pygments_lexer": "ipython3",
   "version": "3.8.12"
  }
 },
 "nbformat": 4,
 "nbformat_minor": 5
}
